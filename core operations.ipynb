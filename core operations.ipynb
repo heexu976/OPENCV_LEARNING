{
 "cells": [
  {
   "cell_type": "code",
   "execution_count": 5,
   "metadata": {
    "collapsed": true
   },
   "outputs": [
    {
     "name": "stdout",
     "output_type": "stream",
     "text": [
      "[68 36  1]\n",
      "68\n",
      "[255 255 255]\n",
      "98\n",
      "(480, 720, 3)\n",
      "1036800\n"
     ]
    }
   ],
   "source": [
    "#basic operations on images\n",
    "#accessing and modifying pixel values\n",
    "\n",
    "import numpy as np\n",
    "import cv2 as cv\n",
    "img = cv.imread('test1.png')\n",
    "\n",
    "px = img[100,100]\n",
    "print(px)\n",
    "\n",
    "blue = img[100,100,0]\n",
    "print(blue)\n",
    "\n",
    "img[100,100]=[255,255,255]# 这种方法太慢，不推荐\n",
    "print(px)\n",
    "\n",
    "print(img.item(10,10,2))\n",
    "\n",
    "print(img.shape)\n",
    "\n",
    "print(img.size)\n"
   ]
  },
  {
   "cell_type": "code",
   "execution_count": null,
   "outputs": [],
   "source": [
    "#image ROI\n",
    "\n",
    "import cv2 as cv\n",
    "import"
   ],
   "metadata": {
    "collapsed": false,
    "pycharm": {
     "name": "#%%\n"
    }
   }
  }
 ],
 "metadata": {
  "kernelspec": {
   "display_name": "Python 3",
   "language": "python",
   "name": "python3"
  },
  "language_info": {
   "codemirror_mode": {
    "name": "ipython",
    "version": 2
   },
   "file_extension": ".py",
   "mimetype": "text/x-python",
   "name": "python",
   "nbconvert_exporter": "python",
   "pygments_lexer": "ipython2",
   "version": "2.7.6"
  }
 },
 "nbformat": 4,
 "nbformat_minor": 0
}